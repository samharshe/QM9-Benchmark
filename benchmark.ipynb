{
 "cells": [
  {
   "cell_type": "markdown",
   "metadata": {},
   "source": [
    "# Training an $E(3)$-equivariant GNN on QM9.\n",
    "this is probably the wrong title because the dataset appears naturally $E(3)$-invariant. I think the point here is to construct a message-passing neural net, not an equivariant one."
   ]
  },
  {
   "cell_type": "code",
   "execution_count": 1,
   "metadata": {},
   "outputs": [
    {
     "name": "stderr",
     "output_type": "stream",
     "text": [
      "/var/folders/1m/gvn54nz553d8jxtvjvrv56kh0000gn/T/ipykernel_5001/1484302939.py:4: DeprecationWarning: \n",
      "Pyarrow will become a required dependency of pandas in the next major release of pandas (pandas 3.0),\n",
      "(to allow more performant data types, such as the Arrow string type, and better interoperability with other libraries)\n",
      "but was not found to be installed on your system.\n",
      "If this would cause problems for you,\n",
      "please provide us feedback at https://github.com/pandas-dev/pandas/issues/54466\n",
      "        \n",
      "  import pandas as pd\n"
     ]
    }
   ],
   "source": [
    "import torch_geometric as tg\n",
    "import torch\n",
    "import numpy as np\n",
    "import pandas as pd"
   ]
  },
  {
   "cell_type": "code",
   "execution_count": 2,
   "metadata": {},
   "outputs": [],
   "source": [
    "# make arrays to keep track of where new molecules begin in the dataset\n",
    "graph_indicator = open('baby_QM9/graph_indicator.txt').read().splitlines()\n",
    "# the first index obviously begins a new molecule\n",
    "new_graph_node_indices = [0]\n",
    "# if the value in the graph_indicator array is not identical to the previous value, then a new molecule begins in this position\n",
    "for i in range(1,len(graph_indicator)):\n",
    "    if graph_indicator[i] > graph_indicator[i-1]:\n",
    "        new_graph_node_indices.append(i)\n",
    "# the last molecule ends at the last index\n",
    "new_graph_node_indices.append(len(graph_indicator))"
   ]
  },
  {
   "cell_type": "code",
   "execution_count": 3,
   "metadata": {},
   "outputs": [],
   "source": [
    "# load adjacency_list into Torch tensor\n",
    "adjacency_list_df = pd.read_csv(\"baby_QM9/adjacency_list.txt\", header=None)\n",
    "adjacency_list = torch.tensor(adjacency_list_df.values)"
   ]
  },
  {
   "cell_type": "code",
   "execution_count": 4,
   "metadata": {},
   "outputs": [],
   "source": [
    "# create a list of the nodes from which each edge begins, subtracting 1 from each item because the list has the first node as #1, but 0-indexing is easier here\n",
    "origin_node_list = [i[0].item()-1 for i in adjacency_list]"
   ]
  },
  {
   "cell_type": "code",
   "execution_count": 5,
   "metadata": {},
   "outputs": [],
   "source": [
    "# create an empty array of the indices in edge files at which each new graph begins\n",
    "new_graph_edge_indices = []\n",
    "# for each index at which a new graph begins in the node list, we search through the adjacency list, find the first an edge that leaves from the node with the corresponding index, and flag it as the beginning of a new graph in the edge list\n",
    "for index in new_graph_node_indices[:-1]:\n",
    "    new_graph_edge_indices.append(origin_node_list.index(index))\n",
    "# the last molecule ends at the last index\n",
    "new_graph_edge_indices.append(len(origin_node_list))"
   ]
  },
  {
   "cell_type": "code",
   "execution_count": 6,
   "metadata": {},
   "outputs": [],
   "source": [
    "# now we can load the rest of the txt files into torch tensors\n",
    "# load node_attributes into Torch tensor\n",
    "node_attributes_df = pd.read_csv(\"baby_QM9/node_attributes.txt\", header=None)\n",
    "node_attributes = torch.tensor(node_attributes_df.values)\n",
    "\n",
    "# load edge_attributes into Torch tensor\n",
    "edge_attributes_df = pd.read_csv(\"baby_QM9/edge_attributes.txt\", header=None)\n",
    "edge_attributes = torch.tensor(edge_attributes_df.values)\n",
    "\n",
    "# load Y into Torch tensor\n",
    "Y_df = pd.read_csv(\"baby_QM9/Y.txt\", header=None)\n",
    "Y = torch.tensor(Y_df.values)"
   ]
  },
  {
   "cell_type": "code",
   "execution_count": 7,
   "metadata": {},
   "outputs": [],
   "source": [
    "from torch_geometric.data import Data\n",
    "molecules = []\n",
    "\n",
    "# for every range indicated by new_graph_node_indices and new_graph_edge_indices (which are equal in length to each other)\n",
    "for (a,b) in zip(range(len(new_graph_edge_indices)), range(len(new_graph_edge_indices))[1:]):\n",
    "    # grab the part of node_attributes corresponding to the current molecule\n",
    "    n_a = node_attributes[new_graph_node_indices[a]:new_graph_node_indices[b]]\n",
    "    # grab the part of edge_attributes corresponding to the current molecule\n",
    "    e_a = edge_attributes[new_graph_edge_indices[a]:new_graph_edge_indices[b]]\n",
    "    # grab the part of adjacency_list corresponding to the current molecule, but make a new object in memory because we have to reindex the items\n",
    "    a_l = adjacency_list[new_graph_edge_indices[a]:new_graph_edge_indices[b]].detach().clone()\n",
    "    # find the number of the first node in this molecule's adjacency list\n",
    "    node_0_value = a_l[0][0].item()\n",
    "    # subtract that from the each of the node numbers in this molecule's adjacency list, so that instead of connections between atoms (n,n+m), we have connections between atoms (0,m) for ease of use\n",
    "    for i in range(len(a_l)):\n",
    "        for j in range(len(a_l[i])):\n",
    "            a_l[i][j] -= node_0_value\n",
    "    # flip it on its side to fit PyTorch_Geometric's demands for the dimensions of this tensor\n",
    "    a_l = torch.transpose(a_l, 0, 1)\n",
    "    # the ground-truth for this molecule, which is the a-th on our list, is just Y[a]\n",
    "    y = Y[a]\n",
    "    # add to our array of molecules\n",
    "    molecules.append(Data(x=n_a, edge_index=a_l, edge_attr=e_a, y=y))"
   ]
  },
  {
   "cell_type": "code",
   "execution_count": 8,
   "metadata": {},
   "outputs": [
    {
     "data": {
      "image/png": "[encoded data removed]",
      "text/plain": [
       "<Figure size 640x480 with 1 Axes>"
      ]
     },
     "metadata": {},
     "output_type": "display_data"
    }
   ],
   "source": [
    "import matplotlib.pyplot as plt\n",
    "import networkx as nx\n",
    "nx.draw(tg.utils.to_networkx(molecules[5], to_undirected=True))"
   ]
  }
 ],
 "metadata": {
  "kernelspec": {
   "display_name": "GeometricDL",
   "language": "python",
   "name": "python3"
  },
  "language_info": {
   "codemirror_mode": {
    "name": "ipython",
    "version": 3
   },
   "file_extension": ".py",
   "mimetype": "text/x-python",
   "name": "python",
   "nbconvert_exporter": "python",
   "pygments_lexer": "ipython3",
   "version": "3.12.1"
  }
 },
 "nbformat": 4,
 "nbformat_minor": 2
}
