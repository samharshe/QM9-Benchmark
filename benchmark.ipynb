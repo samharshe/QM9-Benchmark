{
 "cells": [
  {
   "cell_type": "markdown",
   "metadata": {},
   "source": [
    "# Training an $E(3)$-equivariant GNN on QM9.\n",
    "this is probably the wrong title because the dataset appears naturally $E(3)$-invariant. I think the point here is to construct a message-passing neural net, not an equivariant one."
   ]
  },
  {
   "cell_type": "code",
   "execution_count": 34,
   "metadata": {},
   "outputs": [
    {
     "name": "stderr",
     "output_type": "stream",
     "text": [
      "/var/folders/1m/gvn54nz553d8jxtvjvrv56kh0000gn/T/ipykernel_6010/1484302939.py:4: DeprecationWarning: \n",
      "Pyarrow will become a required dependency of pandas in the next major release of pandas (pandas 3.0),\n",
      "(to allow more performant data types, such as the Arrow string type, and better interoperability with other libraries)\n",
      "but was not found to be installed on your system.\n",
      "If this would cause problems for you,\n",
      "please provide us feedback at https://github.com/pandas-dev/pandas/issues/54466\n",
      "        \n",
      "  import pandas as pd\n"
     ]
    }
   ],
   "source": [
    "import torch_geometric as tg\n",
    "import torch\n",
    "import numpy as np\n",
    "import pandas as pd"
   ]
  },
  {
   "cell_type": "code",
   "execution_count": 26,
   "metadata": {},
   "outputs": [],
   "source": [
    "# make arrays to keep track of where new molecules begin in the dataset\n",
    "graph_indicator = open('QM9/graph_indicator.txt').read().splitlines()\n",
    "# the first index obviously begins a new molecule\n",
    "new_graph_node_indices = [0]\n",
    "new_graph_edge_indices = [0]\n",
    "# if the value in the graph_indicator array is not identical to the previous value, then a new molecule begins in this position\n",
    "for i in range(1,len(graph_indicator)):\n",
    "    if graph_indicator[i] > graph_indicator[i-1]:\n",
    "        new_graph_indices.append(i)\n",
    "# the last molecule ends at the last index\n",
    "new_graph_indices.append(len(graph_indicator))"
   ]
  },
  {
   "cell_type": "code",
   "execution_count": 50,
   "metadata": {},
   "outputs": [],
   "source": [
    "# load all txt files into Torch tensors\n",
    "# load node_attributes into Torch tensor\n",
    "node_attributes_df = pd.read_csv(\"QM9/node_attributes.txt\", header=None)\n",
    "node_attributes = torch.tensor(node_attributes_df.values)\n",
    "\n",
    "# load edge_attributes into Torch tensor\n",
    "edge_attributes_df = pd.read_csv(\"QM9/edge_attributes.txt\", header=None)\n",
    "edge_attributes_df = torch.tensor(edge_attributes.values)\n",
    "\n",
    "# load adjacency_list into Torch tensor\n",
    "adjacency_list_df = pd.read_csv(\"QM9/adjacency_list.txt\", header=None)\n",
    "adjacency_list = torch.tensor(adjacency_list_df.values)\n",
    "\n",
    "# load Y into Torch tensor\n",
    "Y_df = pd.read_csv(\"QM9/Y.txt\", header=None)\n",
    "Y = torch.tensor(Y_df.values)"
   ]
  },
  {
   "cell_type": "code",
   "execution_count": null,
   "metadata": {},
   "outputs": [],
   "source": [
    "# for every range indicated by new_graph_indices\n",
    "for (a,b) in zip(new_graph_indices, new_graph_indices[1:]):\n",
    "    x = node_attributes[a:b]"
   ]
  }
 ],
 "metadata": {
  "kernelspec": {
   "display_name": "GeometricDL",
   "language": "python",
   "name": "python3"
  },
  "language_info": {
   "codemirror_mode": {
    "name": "ipython",
    "version": 3
   },
   "file_extension": ".py",
   "mimetype": "text/x-python",
   "name": "python",
   "nbconvert_exporter": "python",
   "pygments_lexer": "ipython3",
   "version": "3.12.1"
  }
 },
 "nbformat": 4,
 "nbformat_minor": 2
}
