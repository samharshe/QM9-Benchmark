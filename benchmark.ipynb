{
 "cells": [
  {
   "cell_type": "markdown",
   "metadata": {},
   "source": [
    "# benchmark.\n",
    "building a basic $E(3)$-equivariant message-passing graph neural network to predict internal energy at 0K on QM9 to make sure I am comfortable with this stuff in practice as well as in theory."
   ]
  },
  {
   "cell_type": "markdown",
   "metadata": {},
   "source": [
    "to-do:  \n",
    "[] build a DataLoader to make MBGD easier.  \n",
    "    [] build custom Graph class if necessary.  \n",
    "[] learn how you're supposed to keep track of loss through training.  \n",
    "[] separate training, test sets.  \n",
    "[] figure out how to load in all of QM9 without crashing kernel.\n",
    "[] build a version of the model only message-passing between nodes within a certain distance of each other.  \n",
    "[] build a version of the model with edge attribute of the square of the distance between nodes, which makes more sense physically.  \n",
    "[] figure out how to save trained model.\n",
    "[] in general get better at memory management and whatnot and learn how this thing works at runtime to reduce the frequency at which my computer crashes (once per 15 minutes approximately at the moment: lots of room for improvement)."
   ]
  },
  {
   "cell_type": "markdown",
   "metadata": {},
   "source": [
    "### import everything.\n",
    "I only use Data and Dataset from PyTorch_Geometric, and these are honestly not very helpful because I'll have to write custom utilities to do MBGD with the Torch_Geometric DataLoader. I think once I get this working I will rewrite using only vanilla PyTorch and make a custom Graph class."
   ]
  },
  {
   "cell_type": "code",
   "execution_count": 3,
   "metadata": {},
   "outputs": [],
   "source": [
    "import math\n",
    "from itertools import product\n",
    "from typing import List\n",
    "import random\n",
    "import pandas as pd\n",
    "import torch\n",
    "from torch import Tensor, LongTensor\n",
    "import torch.nn as nn\n",
    "import torch.nn.functional as F\n",
    "import torch_geometric\n",
    "from torch_geometric.data import Data\n",
    "from torch_geometric.data import Dataset\n",
    "import matplotlib.pyplot as plt"
   ]
  },
  {
   "cell_type": "markdown",
   "metadata": {},
   "source": [
    "### model components.  \n",
    "the EVGNN has everything.  \n",
    "EVMPLayer is message-passing.  \n",
    "RowWiseFCL is just a FCL that operates on a tensor of an arbitrary row-length, since we want to be able to operate atom-wise on a molecule of an arbitrary number of atoms.  "
   ]
  },
  {
   "cell_type": "code",
   "execution_count": 4,
   "metadata": {},
   "outputs": [],
   "source": [
    "class EVGNN(nn.Module):\n",
    "    def __init__(self) -> None:\n",
    "        super(EVGNN, self).__init__()\n",
    "        # size of the embedding space\n",
    "        self.embed_dim = 32\n",
    "        \n",
    "        self.embedding = nn.Embedding(118, self.embed_dim)\n",
    "        self.mp1 = EVMPLayer(self.embed_dim)\n",
    "        self.mp2 = EVMPLayer(self.embed_dim)\n",
    "        self.prediction1 = RowWiseFCL(self.embed_dim, 8) \n",
    "        self.prediction2 = RowWiseFCL(8, 1) \n",
    "\n",
    "    def forward(self, data = Data) -> float:\n",
    "        # print('IN MODEL\\n', data)\n",
    "        x = self.embedding(data['x'])\n",
    "        # print('EMBEDDING\\n', x)\n",
    "        x = self.mp1(x, data.edge_distances)\n",
    "        x = F.normalize(x, p=1, dim=0)\n",
    "        # print('MESSAGE PASSING 1\\n', x)\n",
    "        x = self.mp2(x, data.edge_distances)\n",
    "        x = F.normalize(x, p=1, dim=0)\n",
    "        # print('MESSAGE PASSING 2\\n', x)\n",
    "        x = self.prediction1(x)\n",
    "        # print('PREDICTION 1\\n', x)\n",
    "        x = self.prediction2(x)\n",
    "        # print('PREDICTION 2\\n', x)\n",
    "        U_hat = torch.sum(x)\n",
    "        # print('FINAL PREDICTION\\n', U_hat)\n",
    "        return U_hat"
   ]
  },
  {
   "cell_type": "code",
   "execution_count": 5,
   "metadata": {},
   "outputs": [],
   "source": [
    "class EVMPLayer(nn.Module):\n",
    "    def __init__(self, embed_dim: int) -> None:\n",
    "        super(EVMPLayer, self).__init__()\n",
    "        self.embed_dim = embed_dim\n",
    "        self.act = nn.Tanh()\n",
    "        message_input_size = 2 * embed_dim + 1\n",
    "        \n",
    "        # take in a message tensor of size 2 * embed_dim + 1 and get out a new h_i of size embed_dim\n",
    "        self.message_mlp = nn.Sequential(nn.Linear(message_input_size, embed_dim), self.act)\n",
    "        \n",
    "        # take in a message tensor of size embed_dim and an original h_i of size embed_dim and get out a new h_i of size embed_dim\n",
    "        self.update_node_mlp = nn.Sequential(nn.Linear(2 * embed_dim, embed_dim), self.act)\n",
    "                \n",
    "    def make_message(self, source_tensor: int, target_tensor: int, distance: float) -> Tensor:\n",
    "        combined_tensor = torch.cat((source_tensor.view(-1), target_tensor.view(-1), torch.Tensor([distance])))\n",
    "        return self.message_mlp(combined_tensor)\n",
    "    \n",
    "    def update_node(self, node_tensor: Tensor, message_tensor: Tensor) -> Tensor:\n",
    "        combined_tensor = torch.cat((node_tensor, message_tensor)).view(1,-1)\n",
    "        return self.update_node_mlp(combined_tensor)\n",
    "    \n",
    "    def forward(self, embed_tensor: Tensor, edge_distances: Tensor) -> Tensor:\n",
    "        new_embed_tensor = torch.zeros_like(embed_tensor)\n",
    "        # for each molecule in the dataset\n",
    "        for ix, source in enumerate(embed_tensor):\n",
    "            # create a tensor that tracks the sum of the messages\n",
    "            message_sum = torch.zeros_like(source)\n",
    "            # for each other molecule in the dataset\n",
    "            for jx, target in enumerate(embed_tensor):\n",
    "                if ix != jx:\n",
    "                    # add the message tensor between them to the sum tensor\n",
    "                    message_sum += self.make_message(source, target, edge_distances[ix,jx].item())\n",
    "            # update the tensor that keeps track of all molecule embeddings by making its row ix the new embedding of the molecule\n",
    "            new_embed_tensor[ix] = self.update_node(source, message_sum)\n",
    "        \n",
    "        return new_embed_tensor\n",
    "            "
   ]
  },
  {
   "cell_type": "code",
   "execution_count": 6,
   "metadata": {},
   "outputs": [],
   "source": [
    "class RowWiseFCL(nn.Module): \n",
    "    def __init__(self, in_dim: int, out_dim: int) -> None: \n",
    "        super(RowWiseFCL, self).__init__() \n",
    "        self.out_dim = out_dim\n",
    "        self.row_layer = nn.Sequential(nn.Linear(in_dim, out_dim), nn.Tanh())\n",
    "      \n",
    "    def forward(self, embed_tensor: Tensor) -> Tensor:\n",
    "        new_embed_tensor = torch.zeros(embed_tensor.size(0), self.out_dim)\n",
    "        for ix, row in enumerate(embed_tensor):\n",
    "            new_embed_tensor[ix] = self.row_layer(row)\n",
    "        return new_embed_tensor"
   ]
  },
  {
   "cell_type": "markdown",
   "metadata": {},
   "source": [
    "### dataset class.  \n",
    "pretty stupid. just a wrapper for Data objects. the point was to be able to pass this into a DataLoader, but the PyTorch_Geometric DataLoader seems more trouble than it's worth, so as mentioned above, this will probably be deprecated soon."
   ]
  },
  {
   "cell_type": "code",
   "execution_count": 7,
   "metadata": {},
   "outputs": [],
   "source": [
    "class MoleculesDataset(Dataset):\n",
    "    def __init__(self, data: List[Data]) -> None:\n",
    "        super().__init__()\n",
    "        self.data = data\n",
    "        \n",
    "    def len(self) -> int:\n",
    "        return len(self.data)\n",
    "    \n",
    "    def get(self, idx: int) -> Data:\n",
    "        return self.data[idx]"
   ]
  },
  {
   "cell_type": "markdown",
   "metadata": {},
   "source": [
    "### helper functions.\n",
    "all self-explanitory. makes it simpler to build the Data items."
   ]
  },
  {
   "cell_type": "code",
   "execution_count": 8,
   "metadata": {},
   "outputs": [],
   "source": [
    "def compute_distance(pos1: Tensor, pos2: Tensor) -> float:\n",
    "    return torch.sum(torch.pow(torch.sub(pos1, pos2), 2)).item()"
   ]
  },
  {
   "cell_type": "code",
   "execution_count": 9,
   "metadata": {},
   "outputs": [],
   "source": [
    "def make_complete_edge_indices(n: int) -> LongTensor:\n",
    "    edges = list(filter(lambda e: e[0] != e[1], product(range(n), range(n))))\n",
    "    return torch.tensor(edges, dtype=torch.long).T"
   ]
  },
  {
   "cell_type": "code",
   "execution_count": 10,
   "metadata": {},
   "outputs": [],
   "source": [
    "def make_edge_distances(positions: Tensor) -> Tensor:\n",
    "    edge_distances = torch.zeros(positions.size(0), positions.size(0))\n",
    "    for ix, source_position in enumerate(positions):\n",
    "        for jx, target_position in enumerate(positions):\n",
    "            edge_distances[ix][jx] = compute_distance(source_position, target_position)\n",
    "    return edge_distances"
   ]
  },
  {
   "cell_type": "markdown",
   "metadata": {},
   "source": [
    "### build the dataset from saved CSVs.  \n",
    "makes custom Data objects.  \n",
    "$x$ is atomic numbers.  \n",
    "$pos$ is positions.\n",
    "full connectivity.  \n",
    "$edge\\_distances$ is a matrix containing the distance from atom $i$ to atom $j$. it si saved with the Data instance so this can all be calculated up front and not waste computatino each time through message passing."
   ]
  },
  {
   "cell_type": "code",
   "execution_count": 11,
   "metadata": {},
   "outputs": [],
   "source": [
    "path_head = 'baby_QM9/raw/'\n",
    "\n",
    "node_features_df = pd.read_csv(path_head + 'node_attributes.txt', header=None)\n",
    "node_features = torch.tensor(node_features_df.values)\n",
    "\n",
    "graph_features_df = pd.read_csv(path_head + 'Y.txt', header=None)\n",
    "graph_features = torch.tensor(graph_features_df.values)\n",
    "\n",
    "atomic_numbers = node_features[:,5].long()\n",
    "\n",
    "positions = node_features[:,-3:]\n",
    "\n",
    "internal_energies = graph_features[:,7]\n",
    "# divide by the largest negative value in the dataset so that all values are between 0 and 1\n",
    "internal_energies_normalized = torch.div(internal_energies, torch.max(internal_energies))\n",
    "internal_energies_normalized_list = internal_energies_normalized.tolist()\n",
    "\n",
    "new_graph_node_indices = [0]\n",
    "node_indicators_df = pd.read_csv(path_head + 'graph_indicator.txt', header=None)\n",
    "node_indicators = node_indicators_df.values.tolist()\n",
    "for ix in range(len((node_indicators)))[1:]:\n",
    "    if node_indicators[ix] != node_indicators[ix-1]:\n",
    "        new_graph_node_indices.append(ix)\n",
    "new_graph_node_indices.append(len(node_indicators))\n",
    "\n",
    "molecules_list = []\n",
    "for start, end in zip(new_graph_node_indices, new_graph_node_indices[1:]):\n",
    "    x = atomic_numbers.clone()[start:end].view(-1, 1)\n",
    "    edge_index = make_complete_edge_indices(end-start)\n",
    "    y = torch.Tensor([internal_energies_normalized_list.pop(0)])\n",
    "    pos = positions.clone()[start:end]\n",
    "    edge_distances = make_edge_distances(pos)\n",
    "    molecule = Data(x = x, edge_index = edge_index, y = y, pos = pos, edge_distances = edge_distances)\n",
    "    molecules_list.append(molecule)\n",
    "    \n",
    "molecules_dataset = MoleculesDataset(molecules_list)"
   ]
  },
  {
   "cell_type": "markdown",
   "metadata": {},
   "source": [
    "### build model and run it."
   ]
  },
  {
   "cell_type": "code",
   "execution_count": 12,
   "metadata": {},
   "outputs": [
    {
     "name": "stdout",
     "output_type": "stream",
     "text": [
      "NEW EPOCH\n"
     ]
    },
    {
     "name": "stderr",
     "output_type": "stream",
     "text": [
      "/usr/local/Caskroom/miniconda/base/envs/GDL/lib/python3.12/site-packages/torch/nn/modules/loss.py:535: UserWarning: Using a target size (torch.Size([1])) that is different to the input size (torch.Size([])). This will likely lead to incorrect results due to broadcasting. Please ensure they have the same size.\n",
      "  return F.mse_loss(input, target, reduction=self.reduction)\n"
     ]
    },
    {
     "name": "stdout",
     "output_type": "stream",
     "text": [
      "NEW EPOCH\n",
      "NEW EPOCH\n",
      "NEW EPOCH\n",
      "NEW EPOCH\n",
      "NEW EPOCH\n",
      "NEW EPOCH\n",
      "NEW EPOCH\n",
      "NEW EPOCH\n",
      "NEW EPOCH\n",
      "NEW EPOCH\n",
      "NEW EPOCH\n",
      "NEW EPOCH\n",
      "NEW EPOCH\n",
      "NEW EPOCH\n",
      "NEW EPOCH\n",
      "NEW EPOCH\n",
      "NEW EPOCH\n",
      "NEW EPOCH\n",
      "NEW EPOCH\n"
     ]
    }
   ],
   "source": [
    "model = EVGNN()\n",
    "optim = torch.optim.Adam(model.parameters(), lr=0.01)\n",
    "loss_fn = nn.MSELoss()\n",
    "losses = []\n",
    "predictions = []\n",
    "targets = []\n",
    "epochs = range(20)\n",
    "\n",
    "# training loop\n",
    "model.train()\n",
    "for epoch in epochs:\n",
    "    print(\"NEW EPOCH\")\n",
    "    for data in molecules_dataset:\n",
    "        U_hat = model(data)\n",
    "        predictions.append(U_hat.item())\n",
    "        U = data['y']\n",
    "        targets.append(U.item())\n",
    "        loss = loss_fn(U_hat, U)\n",
    "        losses.append(loss.item())\n",
    "        optim.zero_grad()\n",
    "        loss.backward()\n",
    "        optim.step()"
   ]
  },
  {
   "cell_type": "code",
   "execution_count": 13,
   "metadata": {},
   "outputs": [
    {
     "data": {
      "image/png": "[encoded data removed]",
      "text/plain": [
       "<Figure size 640x480 with 1 Axes>"
      ]
     },
     "metadata": {},
     "output_type": "display_data"
    }
   ],
   "source": [
    "xs = [x for x in range(len(losses))]\n",
    "\n",
    "# plt.plot(xs, losses)\n",
    "plt.plot(xs, losses)\n",
    "plt.show()\n",
    "plt.close()"
   ]
  },
  {
   "cell_type": "code",
   "execution_count": 14,
   "metadata": {},
   "outputs": [
    {
     "name": "stdout",
     "output_type": "stream",
     "text": [
      "2000\n"
     ]
    }
   ],
   "source": [
    "print(len(losses))"
   ]
  },
  {
   "cell_type": "code",
   "execution_count": 15,
   "metadata": {},
   "outputs": [
    {
     "name": "stdout",
     "output_type": "stream",
     "text": [
      "3.2660069465637207\n",
      "2.8282270431518555\n"
     ]
    }
   ],
   "source": [
    "item_num = 5\n",
    "print(model(molecules_dataset[item_num]).item())\n",
    "print(molecules_dataset[item_num]['y'].item())"
   ]
  }
 ],
 "metadata": {
  "kernelspec": {
   "display_name": "GeometricDL",
   "language": "python",
   "name": "python3"
  },
  "language_info": {
   "codemirror_mode": {
    "name": "ipython",
    "version": 3
   },
   "file_extension": ".py",
   "mimetype": "text/x-python",
   "name": "python",
   "nbconvert_exporter": "python",
   "pygments_lexer": "ipython3",
   "version": "3.12.1"
  }
 },
 "nbformat": 4,
 "nbformat_minor": 2
}
