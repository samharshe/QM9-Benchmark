{
 "cells": [
  {
   "cell_type": "markdown",
   "metadata": {},
   "source": [
    "# Training an $E(3)$-equivariant GNN on QM9.\n",
    "this is probably the wrong title because the dataset appears naturally $E(3)$-invariant. I think the point here is to construct a message-passing neural net, not an equivariant one."
   ]
  },
  {
   "cell_type": "code",
   "execution_count": 1,
   "metadata": {},
   "outputs": [
    {
     "name": "stderr",
     "output_type": "stream",
     "text": [
      "/var/folders/1m/gvn54nz553d8jxtvjvrv56kh0000gn/T/ipykernel_3097/1484302939.py:4: DeprecationWarning: \n",
      "Pyarrow will become a required dependency of pandas in the next major release of pandas (pandas 3.0),\n",
      "(to allow more performant data types, such as the Arrow string type, and better interoperability with other libraries)\n",
      "but was not found to be installed on your system.\n",
      "If this would cause problems for you,\n",
      "please provide us feedback at https://github.com/pandas-dev/pandas/issues/54466\n",
      "        \n",
      "  import pandas as pd\n"
     ]
    }
   ],
   "source": [
    "import torch_geometric as tg\n",
    "import torch\n",
    "import numpy as np\n",
    "import pandas as pd"
   ]
  },
  {
   "cell_type": "code",
   "execution_count": 2,
   "metadata": {},
   "outputs": [],
   "source": [
    "# make arrays to keep track of where new molecules begin in the dataset\n",
    "graph_indicator = open('baby_QM9/graph_indicator.txt').read().splitlines()\n",
    "# the first index obviously begins a new molecule\n",
    "new_graph_node_indices = [0]\n",
    "# if the value in the graph_indicator array is not identical to the previous value, then a new molecule begins in this position\n",
    "for i in range(1,len(graph_indicator)):\n",
    "    if graph_indicator[i] > graph_indicator[i-1]:\n",
    "        new_graph_node_indices.append(i)\n",
    "# the last molecule ends at the last index\n",
    "new_graph_node_indices.append(len(graph_indicator))"
   ]
  },
  {
   "cell_type": "code",
   "execution_count": 3,
   "metadata": {},
   "outputs": [],
   "source": [
    "# load adjacency_list into Torch tensor\n",
    "adjacency_list_df = pd.read_csv(\"baby_QM9/adjacency_list.txt\", header=None)\n",
    "adjacency_list = torch.tensor(adjacency_list_df.values)"
   ]
  },
  {
   "cell_type": "code",
   "execution_count": 7,
   "metadata": {},
   "outputs": [],
   "source": [
    "# create a list of the nodes from which each edge begins, subtracting 1 from each item because the list has the first node as #1, but 0-indexing is easier here\n",
    "origin_node_list = [i[0].item()-1 for i in adjacency_list]"
   ]
  },
  {
   "cell_type": "code",
   "execution_count": 8,
   "metadata": {},
   "outputs": [
    {
     "name": "stdout",
     "output_type": "stream",
     "text": [
      "[0, 0, 0, 0, 1, 2, 3, 4, 5, 5, 5, 6, 7, 8, 9, 9, 10, 11, 12, 12, 13, 13, 14, 15, 16, 16, 17, 18, 19, 19, 19, 20, 21, 22, 23, 23, 23, 23, 24, 24, 24, 24, 25, 26, 27, 28, 29, 30, 31, 31, 31, 31, 32, 32, 33, 34, 35, 36, 37, 37, 37, 37, 38, 38, 39, 39, 40, 41, 42]\n"
     ]
    }
   ],
   "source": [
    "print(origin_node_list)"
   ]
  },
  {
   "cell_type": "code",
   "execution_count": 10,
   "metadata": {},
   "outputs": [
    {
     "ename": "ValueError",
     "evalue": "44 is not in list",
     "output_type": "error",
     "traceback": [
      "\u001b[0;31m---------------------------------------------------------------------------\u001b[0m",
      "\u001b[0;31mValueError\u001b[0m                                Traceback (most recent call last)",
      "Cell \u001b[0;32mIn[10], line 5\u001b[0m\n\u001b[1;32m      3\u001b[0m \u001b[38;5;66;03m# for each index at which a new graph begins in the node list, we search through the adjacency list, find the first an edge that leaves from the node with the corresponding index, and flag it as the beginning of a new graph in the edge list\u001b[39;00m\n\u001b[1;32m      4\u001b[0m \u001b[38;5;28;01mfor\u001b[39;00m index \u001b[38;5;129;01min\u001b[39;00m new_graph_node_indices:\n\u001b[0;32m----> 5\u001b[0m     new_graph_edge_indices\u001b[38;5;241m.\u001b[39mappend(\u001b[43morigin_node_list\u001b[49m\u001b[38;5;241;43m.\u001b[39;49m\u001b[43mindex\u001b[49m\u001b[43m(\u001b[49m\u001b[43mindex\u001b[49m\u001b[43m)\u001b[49m)\n\u001b[1;32m      6\u001b[0m new_graph_edge_indices\u001b[38;5;241m.\u001b[39mappend(\u001b[38;5;28mlen\u001b[39m(origin_node_list))\n\u001b[1;32m      7\u001b[0m \u001b[38;5;28mprint\u001b[39m(new_graph_edge_indices)\n",
      "\u001b[0;31mValueError\u001b[0m: 44 is not in list"
     ]
    }
   ],
   "source": [
    "# create an empty array of the indices in edge files at which each new graph begins\n",
    "new_graph_edge_indices = []\n",
    "# for each index at which a new graph begins in the node list, we search through the adjacency list, find the first an edge that leaves from the node with the corresponding index, and flag it as the beginning of a new graph in the edge list\n",
    "for index in new_graph_node_indices:\n",
    "    new_graph_edge_indices.append(origin_node_list.index(index))\n",
    "new_graph_edge_indices.append(len(origin_node_list))\n",
    "print(new_graph_edge_indices)"
   ]
  },
  {
   "cell_type": "code",
   "execution_count": 50,
   "metadata": {},
   "outputs": [],
   "source": [
    "# now we can load the rest of the txt files into torch tensors\n",
    "# load node_attributes into Torch tensor\n",
    "node_attributes_df = pd.read_csv(\"QM9/node_attributes.txt\", header=None)\n",
    "node_attributes = torch.tensor(node_attributes_df.values)\n",
    "\n",
    "# load edge_attributes into Torch tensor\n",
    "edge_attributes_df = pd.read_csv(\"QM9/edge_attributes.txt\", header=None)\n",
    "edge_attributes_df = torch.tensor(edge_attributes.values)\n",
    "\n",
    "# load Y into Torch tensor\n",
    "Y_df = pd.read_csv(\"QM9/Y.txt\", header=None)\n",
    "Y = torch.tensor(Y_df.values)"
   ]
  },
  {
   "cell_type": "code",
   "execution_count": null,
   "metadata": {},
   "outputs": [],
   "source": [
    "# for every range indicated by new_graph_indices and new_edge_indices\n",
    "for (a,b) in zip(new_graph_indices, new_graph_indices[1:]):\n",
    "    x = node_attributes[a:b]"
   ]
  }
 ],
 "metadata": {
  "kernelspec": {
   "display_name": "GeometricDL",
   "language": "python",
   "name": "python3"
  },
  "language_info": {
   "codemirror_mode": {
    "name": "ipython",
    "version": 3
   },
   "file_extension": ".py",
   "mimetype": "text/x-python",
   "name": "python",
   "nbconvert_exporter": "python",
   "pygments_lexer": "ipython3",
   "version": "3.12.1"
  }
 },
 "nbformat": 4,
 "nbformat_minor": 2
}
