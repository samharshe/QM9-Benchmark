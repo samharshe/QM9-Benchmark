{
 "cells": [
  {
   "cell_type": "markdown",
   "metadata": {},
   "source": [
    "# to build a representation of QM9 that contains only the stuff I need and will not crash my kernel."
   ]
  },
  {
   "cell_type": "code",
   "execution_count": null,
   "metadata": {},
   "outputs": [],
   "source": [
    "import math\n",
    "from itertools import product\n",
    "from typing import List, Any, Set\n",
    "import random\n",
    "import pandas as pd\n",
    "import torch\n",
    "from torch import Tensor, LongTensor\n",
    "from torch.utils.data import Dataset\n",
    "import torch.nn as nn\n",
    "import torch.nn.functional as F\n",
    "import matplotlib.pyplot as plt"
   ]
  },
  {
   "cell_type": "code",
   "execution_count": 18,
   "metadata": {},
   "outputs": [],
   "source": [
    "new_node_position_list = [0,\n",
    "                71228,\n",
    "                157492,\n",
    "                243324,\n",
    "                326352,\n",
    "                402375,\n",
    "                483859,\n",
    "                569011,\n",
    "                663266,\n",
    "                745680,\n",
    "                828680,\n",
    "                917385,\n",
    "                1018451,\n",
    "                1111755,\n",
    "                1204441,\n",
    "                1297886,\n",
    "                1391805,\n",
    "                1487137,\n",
    "                1585742,\n",
    "                1683406,\n",
    "                1783800,\n",
    "                1883738,\n",
    "                1983325,\n",
    "                2085970,\n",
    "                2190791,\n",
    "                2272377,\n",
    "                2333625\n",
    "                ]\n",
    "\n",
    "new_graph_position_list = list(range(0,125000,5000)) + [129433]"
   ]
  },
  {
   "cell_type": "code",
   "execution_count": 21,
   "metadata": {},
   "outputs": [],
   "source": [
    "path_head = 'QM9/'\n",
    "with open('Zebra/QM9.csv', 'a') as file:\n",
    "    for i in range(len(new_node_position_list)-1):\n",
    "        sn = new_node_position_list[i]\n",
    "        en = new_node_position_list[i+1]\n",
    "        \n",
    "        sg = new_graph_position_list[i]\n",
    "        eg = new_graph_position_list[i+1]\n",
    "        \n",
    "        node_features_df = pd.read_csv(path_head + 'node_attributes.txt', skiprows=sn, header=None, nrows=en-sn)\n",
    "        node_features = torch.tensor(node_features_df.values)\n",
    "\n",
    "        graph_features_df = pd.read_csv(path_head + 'Y.txt', skiprows=sg, header=None, nrows=eg-sg)\n",
    "        graph_features = torch.tensor(graph_features_df.values)\n",
    "\n",
    "        atomic_numbers = node_features[:,5].long()\n",
    "\n",
    "        positions = node_features[:,-3:]\n",
    "\n",
    "        internal_energies = graph_features[:,7]\n",
    "        internal_energies_normalized = torch.nn.functional.normalize(internal_energies, dim=0)\n",
    "        internal_energies_normalized_list = internal_energies_normalized.tolist()\n",
    "\n",
    "        new_graph_node_indices = [0]\n",
    "        node_indicators_df = pd.read_csv(path_head + 'graph_indicator.txt', skiprows=sn, header=None, nrows=en-sn)\n",
    "        node_indicators = node_indicators_df.values.tolist()\n",
    "        for ix in range(len((node_indicators)))[1:]:\n",
    "            if node_indicators[ix] != node_indicators[ix-1]:\n",
    "                new_graph_node_indices.append(ix)\n",
    "        new_graph_node_indices.append(len(node_indicators))\n",
    "\n",
    "        for start, end in zip(new_graph_node_indices, new_graph_node_indices[1:]):\n",
    "            x = atomic_numbers.clone()[start:end].view(-1, 1)\n",
    "            y = internal_energies_normalized_list.pop(0)\n",
    "            pos = positions.clone()[start:end]\n",
    "            string_builder = '['\n",
    "            for a in x:\n",
    "                string_builder+=str(a.item())+','\n",
    "            string_builder = f'{string_builder[:-1]}]['\n",
    "            for p in pos:\n",
    "                string_builder += f'[{str(p[0].item())},{str(p[1].item())},{str(p[2].item())}],'\n",
    "            string_builder = f'{string_builder[:-1]}]'\n",
    "            string_builder += f'[{y}]\\n'\n",
    "            file.write(string_builder)\n",
    "        \n",
    "    file.close()"
   ]
  },
  {
   "cell_type": "code",
   "execution_count": null,
   "metadata": {},
   "outputs": [],
   "source": []
  }
 ],
 "metadata": {
  "kernelspec": {
   "display_name": "GDL",
   "language": "python",
   "name": "python3"
  },
  "language_info": {
   "codemirror_mode": {
    "name": "ipython",
    "version": 3
   },
   "file_extension": ".py",
   "mimetype": "text/x-python",
   "name": "python",
   "nbconvert_exporter": "python",
   "pygments_lexer": "ipython3",
   "version": "3.12.1"
  }
 },
 "nbformat": 4,
 "nbformat_minor": 2
}
